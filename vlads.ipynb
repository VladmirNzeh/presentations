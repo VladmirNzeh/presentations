{
 "cells": [
  {
   "cell_type": "markdown",
   "id": "6b0406db",
   "metadata": {
    "slideshow": {
     "slide_type": "slide"
    }
   },
   "source": [
    "# Demonstrate the effect of vlads jupyter notebook\n",
    "This is a header"
   ]
  },
  {
   "cell_type": "code",
   "execution_count": 1,
   "id": "43db7382",
   "metadata": {
    "slideshow": {
     "slide_type": "slide"
    }
   },
   "outputs": [
    {
     "name": "stdout",
     "output_type": "stream",
     "text": [
      "{'userId': 1, 'id': 1, 'title': 'sunt aut facere repellat provident occaecati excepturi optio reprehenderit', 'body': 'quia et suscipit\\nsuscipit recusandae consequuntur expedita et cum\\nreprehenderit molestiae ut ut quas totam\\nnostrum rerum est autem sunt rem eveniet architecto'}\n"
     ]
    }
   ],
   "source": [
    "\n",
    "import requests\n",
    "r = requests.get(\"https://jsonplaceholder.typicode.com/posts/1\")\n",
    "print(r.json())"
   ]
  },
  {
   "cell_type": "markdown",
   "id": "f8a66357",
   "metadata": {
    "slideshow": {
     "slide_type": "slide"
    }
   },
   "source": [
    "# This is slide two\n",
    "\n",
    "- Here is a thought\n",
    "- And here is another thought"
   ]
  },
  {
   "cell_type": "markdown",
   "id": "76bf8067",
   "metadata": {
    "slideshow": {
     "slide_type": "slide"
    }
   },
   "source": [
    "#end of slide"
   ]
  }
 ],
 "metadata": {
  "celltoolbar": "Slideshow",
  "kernelspec": {
   "display_name": "presentations",
   "language": "python",
   "name": "presentations"
  },
  "language_info": {
   "codemirror_mode": {
    "name": "ipython",
    "version": 3
   },
   "file_extension": ".py",
   "mimetype": "text/x-python",
   "name": "python",
   "nbconvert_exporter": "python",
   "pygments_lexer": "ipython3",
   "version": "3.11.4"
  }
 },
 "nbformat": 4,
 "nbformat_minor": 5
}
